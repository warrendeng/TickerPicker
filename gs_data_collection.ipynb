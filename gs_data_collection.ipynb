{
 "cells": [
  {
   "cell_type": "code",
   "execution_count": 21,
   "metadata": {},
   "outputs": [],
   "source": [
    "from datetime import date, datetime, timedelta\n",
    "from gs_quant.data import Dataset\n",
    "from gs_quant.markets.securities import SecurityMaster, AssetIdentifier\n",
    "from gs_quant.session import GsSession\n",
    "\n",
    "import pandas as pd\n",
    "import pytz\n",
    "import dateutil.relativedelta\n"
   ]
  },
  {
   "cell_type": "code",
   "execution_count": 18,
   "metadata": {},
   "outputs": [],
   "source": [
    "client_id=\"211a42c6a16244ccb1f9142ae9cc7fc1\"\n",
    "client_secret=\"2f65f549b398ecbbe047933822dc0c2fa950f67158e9e6bbddc256ff5beaebf6\"\n",
    "\n",
    "# access marquee\n",
    "scopes = GsSession.Scopes.get_default()\n",
    "GsSession.use(client_id=client_id, client_secret=client_secret, scopes=scopes)\n",
    "ds = Dataset('USCANFPP_MINI')"
   ]
  },
  {
   "cell_type": "code",
   "execution_count": 26,
   "metadata": {},
   "outputs": [
    {
     "data": {
      "text/plain": [
       "datetime.datetime(2018, 10, 27, 3, 55, 8, 631266, tzinfo=<UTC>)"
      ]
     },
     "execution_count": 26,
     "metadata": {},
     "output_type": "execute_result"
    }
   ],
   "source": [
    "current_date = datetime.utcnow().replace(tzinfo=pytz.utc)\n",
    "past_date = current_date - timedelta(days=365)\n",
    "past_date"
   ]
  },
  {
   "cell_type": "code",
   "execution_count": 32,
   "metadata": {
    "scrolled": true
   },
   "outputs": [
    {
     "name": "stderr",
     "output_type": "stream",
     "text": [
      "map_identifiers: more than one mapping for 194688\n",
      "map_identifiers: more than one mapping for 194688\n",
      "map_identifiers: more than one mapping for 194688\n",
      "map_identifiers: more than one mapping for 75154\n",
      "map_identifiers: more than one mapping for 902608\n",
      "map_identifiers: more than one mapping for 902608\n",
      "map_identifiers: more than one mapping for 902608\n"
     ]
    },
    {
     "data": {
      "text/html": [
       "<div>\n",
       "<style scoped>\n",
       "    .dataframe tbody tr th:only-of-type {\n",
       "        vertical-align: middle;\n",
       "    }\n",
       "\n",
       "    .dataframe tbody tr th {\n",
       "        vertical-align: top;\n",
       "    }\n",
       "\n",
       "    .dataframe thead th {\n",
       "        text-align: right;\n",
       "    }\n",
       "</style>\n",
       "<table border=\"1\" class=\"dataframe\">\n",
       "  <thead>\n",
       "    <tr style=\"text-align: right;\">\n",
       "      <th></th>\n",
       "      <th>assetId</th>\n",
       "      <th>financialReturnsScore</th>\n",
       "      <th>growthScore</th>\n",
       "      <th>gsid</th>\n",
       "      <th>integratedScore</th>\n",
       "      <th>multipleScore</th>\n",
       "      <th>updateTime</th>\n",
       "      <th>assetName</th>\n",
       "    </tr>\n",
       "    <tr>\n",
       "      <th>date</th>\n",
       "      <th></th>\n",
       "      <th></th>\n",
       "      <th></th>\n",
       "      <th></th>\n",
       "      <th></th>\n",
       "      <th></th>\n",
       "      <th></th>\n",
       "      <th></th>\n",
       "    </tr>\n",
       "  </thead>\n",
       "  <tbody>\n",
       "    <tr>\n",
       "      <th>2014-01-15</th>\n",
       "      <td>MA4B66MW5E27UAKV9RU</td>\n",
       "      <td>0.894</td>\n",
       "      <td>0.828</td>\n",
       "      <td>193067</td>\n",
       "      <td>0.598</td>\n",
       "      <td>0.924</td>\n",
       "      <td>2017-05-11T19:47:36Z</td>\n",
       "      <td>Lumber Liquidators Holdings</td>\n",
       "    </tr>\n",
       "    <tr>\n",
       "      <th>2014-01-16</th>\n",
       "      <td>MA4B66MW5E27UAKV9RU</td>\n",
       "      <td>0.894</td>\n",
       "      <td>0.828</td>\n",
       "      <td>193067</td>\n",
       "      <td>0.600</td>\n",
       "      <td>0.922</td>\n",
       "      <td>2017-05-11T19:47:36Z</td>\n",
       "      <td>Lumber Liquidators Holdings</td>\n",
       "    </tr>\n",
       "    <tr>\n",
       "      <th>2014-01-17</th>\n",
       "      <td>MA4B66MW5E27UAKV9RU</td>\n",
       "      <td>0.892</td>\n",
       "      <td>0.828</td>\n",
       "      <td>193067</td>\n",
       "      <td>0.600</td>\n",
       "      <td>0.920</td>\n",
       "      <td>2017-05-11T19:47:36Z</td>\n",
       "      <td>Lumber Liquidators Holdings</td>\n",
       "    </tr>\n",
       "    <tr>\n",
       "      <th>2014-01-20</th>\n",
       "      <td>MA4B66MW5E27UAKV9RU</td>\n",
       "      <td>0.894</td>\n",
       "      <td>0.828</td>\n",
       "      <td>193067</td>\n",
       "      <td>0.600</td>\n",
       "      <td>0.920</td>\n",
       "      <td>2017-05-11T19:47:36Z</td>\n",
       "      <td>Lumber Liquidators Holdings</td>\n",
       "    </tr>\n",
       "    <tr>\n",
       "      <th>2014-01-21</th>\n",
       "      <td>MA4B66MW5E27UAKV9RU</td>\n",
       "      <td>0.892</td>\n",
       "      <td>0.826</td>\n",
       "      <td>193067</td>\n",
       "      <td>0.600</td>\n",
       "      <td>0.920</td>\n",
       "      <td>2017-05-11T19:47:36Z</td>\n",
       "      <td>Lumber Liquidators Holdings</td>\n",
       "    </tr>\n",
       "  </tbody>\n",
       "</table>\n",
       "</div>"
      ],
      "text/plain": [
       "                        assetId  financialReturnsScore  growthScore    gsid  \\\n",
       "date                                                                          \n",
       "2014-01-15  MA4B66MW5E27UAKV9RU                  0.894        0.828  193067   \n",
       "2014-01-16  MA4B66MW5E27UAKV9RU                  0.894        0.828  193067   \n",
       "2014-01-17  MA4B66MW5E27UAKV9RU                  0.892        0.828  193067   \n",
       "2014-01-20  MA4B66MW5E27UAKV9RU                  0.894        0.828  193067   \n",
       "2014-01-21  MA4B66MW5E27UAKV9RU                  0.892        0.826  193067   \n",
       "\n",
       "            integratedScore  multipleScore            updateTime  \\\n",
       "date                                                               \n",
       "2014-01-15            0.598          0.924  2017-05-11T19:47:36Z   \n",
       "2014-01-16            0.600          0.922  2017-05-11T19:47:36Z   \n",
       "2014-01-17            0.600          0.920  2017-05-11T19:47:36Z   \n",
       "2014-01-20            0.600          0.920  2017-05-11T19:47:36Z   \n",
       "2014-01-21            0.600          0.920  2017-05-11T19:47:36Z   \n",
       "\n",
       "                              assetName  \n",
       "date                                     \n",
       "2014-01-15  Lumber Liquidators Holdings  \n",
       "2014-01-16  Lumber Liquidators Holdings  \n",
       "2014-01-17  Lumber Liquidators Holdings  \n",
       "2014-01-20  Lumber Liquidators Holdings  \n",
       "2014-01-21  Lumber Liquidators Holdings  "
      ]
     },
     "execution_count": 32,
     "metadata": {},
     "output_type": "execute_result"
    }
   ],
   "source": [
    "# parse all stock data\n",
    "gsids = ds.get_coverage()['gsid'].values.tolist()\n",
    "data = ds.get_data(date(2014, 1, 15), date(2019, 1, 15), gsid=gsids[0:5])\n",
    "# data = ds.get_data(past_date, current_date, gsid=gsids[0:5])\n",
    "# data.head()\n",
    "\n",
    "for idx, row in data.iterrows():\n",
    "    marqueeAssetId = row['assetId']\n",
    "    asset = SecurityMaster.get_asset(marqueeAssetId, AssetIdentifier.MARQUEE_ID)\n",
    "#     print(\"processing...\", asset.name, end=', ')\n",
    "    data.loc[data['assetId'] == marqueeAssetId, 'assetName'] = asset.name\n",
    "    \n",
    "data.to_pickle(\"./gs_sec_data.pkl\")\n",
    "data.head()"
   ]
  },
  {
   "cell_type": "code",
   "execution_count": null,
   "metadata": {},
   "outputs": [],
   "source": []
  }
 ],
 "metadata": {
  "kernelspec": {
   "display_name": "Python 3",
   "language": "python",
   "name": "python3"
  },
  "language_info": {
   "codemirror_mode": {
    "name": "ipython",
    "version": 3
   },
   "file_extension": ".py",
   "mimetype": "text/x-python",
   "name": "python",
   "nbconvert_exporter": "python",
   "pygments_lexer": "ipython3",
   "version": "3.7.3"
  }
 },
 "nbformat": 4,
 "nbformat_minor": 2
}
