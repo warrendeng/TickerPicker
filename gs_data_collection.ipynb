{
 "cells": [
  {
   "cell_type": "code",
   "execution_count": 2,
   "metadata": {},
   "outputs": [],
   "source": [
    "from datetime import date\n",
    "from gs_quant.data import Dataset\n",
    "from gs_quant.markets.securities import SecurityMaster, AssetIdentifier\n",
    "from gs_quant.session import GsSession\n",
    "\n",
    "import pandas as pd"
   ]
  },
  {
   "cell_type": "code",
   "execution_count": 4,
   "metadata": {},
   "outputs": [],
   "source": [
    "client_id=\"211a42c6a16244ccb1f9142ae9cc7fc1\"\n",
    "client_secret=\"2f65f549b398ecbbe047933822dc0c2fa950f67158e9e6bbddc256ff5beaebf6\"\n",
    "\n",
    "# access marquee\n",
    "scopes = GsSession.Scopes.get_default()\n",
    "GsSession.use(client_id=client_id, client_secret=client_secret, scopes=scopes)\n",
    "ds = Dataset('USCANFPP_MINI')"
   ]
  },
  {
   "cell_type": "code",
   "execution_count": null,
   "metadata": {
    "scrolled": true
   },
   "outputs": [
    {
     "name": "stderr",
     "output_type": "stream",
     "text": [
      "map_identifiers: more than one mapping for 194688\n",
      "map_identifiers: more than one mapping for 194688\n",
      "map_identifiers: more than one mapping for 194688\n",
      "map_identifiers: more than one mapping for 75154\n",
      "map_identifiers: more than one mapping for 902608\n",
      "map_identifiers: more than one mapping for 902608\n",
      "map_identifiers: more than one mapping for 902608\n"
     ]
    }
   ],
   "source": [
    "# parse all stock data\n",
    "gsids = ds.get_coverage()['gsid'].values.tolist()\n",
    "data = ds.get_data(date(2017, 1, 15), date(2018, 1, 15), gsid=gsids[0:5])\n",
    "# data.head()\n",
    "\n",
    "for idx, row in data.iterrows():\n",
    "#     print(\"processing...\", idx)\n",
    "    marqueeAssetId = row['assetId']\n",
    "    asset = SecurityMaster.get_asset(marqueeAssetId, AssetIdentifier.MARQUEE_ID)\n",
    "    data.loc[data['assetId'] == marqueeAssetId, 'assetName'] = asset.name\n",
    "    \n",
    "data.to_pickle(\"./gs_sec_data.pkl\")\n",
    "data.head()"
   ]
  },
  {
   "cell_type": "code",
   "execution_count": null,
   "metadata": {},
   "outputs": [],
   "source": []
  }
 ],
 "metadata": {
  "kernelspec": {
   "display_name": "Python 3",
   "language": "python",
   "name": "python3"
  },
  "language_info": {
   "codemirror_mode": {
    "name": "ipython",
    "version": 3
   },
   "file_extension": ".py",
   "mimetype": "text/x-python",
   "name": "python",
   "nbconvert_exporter": "python",
   "pygments_lexer": "ipython3",
   "version": "3.7.3"
  }
 },
 "nbformat": 4,
 "nbformat_minor": 2
}
