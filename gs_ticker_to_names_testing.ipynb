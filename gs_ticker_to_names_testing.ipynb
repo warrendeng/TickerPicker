{
 "cells": [
  {
   "cell_type": "code",
   "execution_count": 67,
   "metadata": {},
   "outputs": [],
   "source": [
    "from datetime import date\n",
    "from gs_quant.session import GsSession\n",
    "\n",
    "import requests\n",
    "import json\n",
    "\n",
    "import pandas as pd"
   ]
  },
  {
   "cell_type": "code",
   "execution_count": 69,
   "metadata": {},
   "outputs": [],
   "source": [
    "client_id=\"211a42c6a16244ccb1f9142ae9cc7fc1\"\n",
    "client_secret=\"2f65f549b398ecbbe047933822dc0c2fa950f67158e9e6bbddc256ff5beaebf6\"\n",
    "\n",
    "# enter marquee\n",
    "scopes = GsSession.Scopes.get_default()\n",
    "GsSession.use(client_id=client_id, client_secret=client_secret, scopes=scopes)\n",
    "\n",
    "session = requests.Session()\n",
    "\n",
    "auth_data = {\n",
    "    'grant_type'    : 'client_credentials',\n",
    "    'client_id'     : client_id,\n",
    "    'client_secret' : client_secret,\n",
    "    'scope'         : 'read_product_data'\n",
    "}\n",
    "auth_request = session.post(\"https://idfs.gs.com/as/token.oauth2\", data = auth_data)\n",
    "access_token_dict = json.loads(auth_request.text)\n",
    "access_token = access_token_dict[\"access_token\"]\n",
    "\n",
    "# update session headers with access token\n",
    "session.headers.update({\"Authorization\":\"Bearer \"+ access_token})\n"
   ]
  },
  {
   "cell_type": "code",
   "execution_count": 102,
   "metadata": {},
   "outputs": [
    {
     "name": "stdout",
     "output_type": "stream",
     "text": [
      "Arrowhead Research Corp @ 102689 @ ARWR\n",
      "Nike Inc -CL B @ 57665 @ NKE\n",
      "Starbucks Corp @ 77702 @ SBUX\n",
      "Generac Holdings Inc @ 211682 @ GNRC\n",
      "Amarin Corp PLC -Adr @ 79122 @ AMRN\n",
      "Tiffany & Co @ 75100 @ TIF\n",
      "Arrowhead Research Corp @ 102689 @ ARWR\n",
      "Tiffany & Co @ 75100 @ TIF\n",
      "Costco Wholesale Corp @ 64064 @ COST\n",
      "Starbucks Corp @ 77702 @ SBUX\n",
      "Starbucks Corp @ 77702 @ SBUX\n",
      "Altria Group Inc @ 13901 @ MO\n"
     ]
    },
    {
     "data": {
      "text/plain": [
       "[{'name': 'Arrowhead Research Corp', 'gsid': '102689', 'ticker': 'ARWR'},\n",
       " {'name': 'Nike Inc -CL B', 'gsid': '57665', 'ticker': 'NKE'},\n",
       " {'name': 'Starbucks Corp', 'gsid': '77702', 'ticker': 'SBUX'},\n",
       " {'name': 'Generac Holdings Inc', 'gsid': '211682', 'ticker': 'GNRC'},\n",
       " {'name': 'Amarin Corp PLC -Adr', 'gsid': '79122', 'ticker': 'AMRN'},\n",
       " {'name': 'Tiffany & Co', 'gsid': '75100', 'ticker': 'TIF'},\n",
       " {'name': 'Arrowhead Research Corp', 'gsid': '102689', 'ticker': 'ARWR'},\n",
       " {'name': 'Tiffany & Co', 'gsid': '75100', 'ticker': 'TIF'},\n",
       " {'name': 'Costco Wholesale Corp', 'gsid': '64064', 'ticker': 'COST'},\n",
       " {'name': 'Starbucks Corp', 'gsid': '77702', 'ticker': 'SBUX'},\n",
       " {'name': 'Starbucks Corp', 'gsid': '77702', 'ticker': 'SBUX'},\n",
       " {'name': 'Altria Group Inc', 'gsid': '13901', 'ticker': 'MO'}]"
      ]
     },
     "execution_count": 102,
     "metadata": {},
     "output_type": "execute_result"
    }
   ],
   "source": [
    "# api-endpoint \n",
    "URL = \"https://api.marquee.gs.com/v1/assets/data/query\"\n",
    "  \n",
    "# defining a params dict for the parameters to be sent to the API \n",
    "headers = {\n",
    "    'Content-Type': 'application/json'\n",
    "}\n",
    "\n",
    "tickerList = [\"TIF\", \"ARWR\", \"COST\", \"NKE\", \"GNRC\", \"AMRN\", \"MO\", \"SBUX\"]\n",
    "\n",
    "jsonInput = {\n",
    "    \"where\": {\n",
    "        \"ticker\": tickerList,\n",
    "#         \"listed\": True,\n",
    "#         \"assetClassificationsIsPrimary\": True,\n",
    "        \"currency\": \"USD\",\n",
    "        \"assetClass\": \"Equity\"\n",
    "    },\n",
    "    \"fields\": [ \"ticker\", \"gsid\", \"name\"],\n",
    "    \"limit\": int(len(tickerList) * 1.5)\n",
    "}\n",
    "  \n",
    "# sending get request and saving the response as response object \n",
    "r = session.post(URL, headers=headers, json=jsonInput) \n",
    "  \n",
    "# extracting data in json format \n",
    "tickerMap = {}\n",
    "for d in r.json()[\"results\"]:\n",
    "    name, gsid, ticker = d[\"name\"], d[\"gsid\"], d[\"ticker\"]\n",
    "    print(name, gsid, ticker, sep=' @ ')\n",
    "    tickerMap[ticker] = {\"name\": name, \"gsid\": gsid}\n",
    "\n",
    "r.json()[\"results\"]"
   ]
  },
  {
   "cell_type": "code",
   "execution_count": null,
   "metadata": {},
   "outputs": [],
   "source": []
  }
 ],
 "metadata": {
  "kernelspec": {
   "display_name": "Python 3",
   "language": "python",
   "name": "python3"
  },
  "language_info": {
   "codemirror_mode": {
    "name": "ipython",
    "version": 3
   },
   "file_extension": ".py",
   "mimetype": "text/x-python",
   "name": "python",
   "nbconvert_exporter": "python",
   "pygments_lexer": "ipython3",
   "version": "3.7.3"
  }
 },
 "nbformat": 4,
 "nbformat_minor": 2
}
