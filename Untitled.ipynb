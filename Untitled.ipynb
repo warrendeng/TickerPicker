{
 "cells": [
  {
   "cell_type": "code",
   "execution_count": 12,
   "metadata": {},
   "outputs": [
    {
     "name": "stdout",
     "output_type": "stream",
     "text": [
      "84877\n",
      "100\n",
      "[-0.00230819  0.00443601  0.0036973   0.00366337 -0.00206642 -0.00539281\n",
      "  0.00650482 -0.0054023   0.02703352  0.9697274 ]\n"
     ]
    },
    {
     "name": "stderr",
     "output_type": "stream",
     "text": [
      "//anaconda3/lib/python3.7/site-packages/ipykernel_launcher.py:61: FutureWarning: `rcond` parameter will change to the default of machine precision times ``max(M, N)`` where M and N are the input matrix dimensions.\n",
      "To use the future default and silence this warning we advise to pass `rcond=None`, to keep using the old, explicitly pass `rcond=-1`.\n"
     ]
    }
   ],
   "source": [
    "import pandas as pd\n",
    "import numpy as np\n",
    "import csv\n",
    "pd.read_csv('gs_sec_data.csv')\n",
    "\n",
    "df = pd.read_csv('gs_sec_data.csv')\n",
    "array = np.array(df[[\"gsid\", \"integratedScore\"]])\n",
    "\n",
    "companyArr = []\n",
    "currElem = array[0][0]\n",
    "currCompany = []\n",
    "index = 0\n",
    "endIndex = len(array) - 1\n",
    "print(endIndex)\n",
    "for elem in array:\n",
    "    companyId = elem[0]\n",
    "    while not isinstance(companyId, float):\n",
    "        print(companyId)\n",
    "        print(type(companyId))\n",
    "        companyId = companyId[0]\n",
    "    while not isinstance(companyId, float):\n",
    "        companyId = companyId[0]\n",
    "    if currElem == companyId:\n",
    "        currCompany.append(elem[1])\n",
    "        if index == endIndex:\n",
    "            currCompany.append(elem[1])\n",
    "            companyArr.append(currCompany)\n",
    "            print(len(companyArr))\n",
    "            break \n",
    "    else:       \n",
    "        companyArr.append(currCompany)\n",
    "        currElem = elem\n",
    "        while not isinstance(currElem, float):\n",
    "            currElem = currElem[0]\n",
    "        currCompany = []\n",
    "    index += 1\n",
    "\n",
    "import random\n",
    "import math\n",
    "\n",
    "dataSetLength = 10\n",
    "tenDayArr = []\n",
    "\n",
    "for company in companyArr:\n",
    "    lengthCompanyData = len(company)\n",
    "    index = 0\n",
    "    for i in range(lengthCompanyData - dataSetLength):\n",
    "        ok = True\n",
    "        for j in range(dataSetLength + 1):\n",
    "            if math.isnan(company[i + j]):\n",
    "                ok = False\n",
    "                break\n",
    "        if (ok):\n",
    "            tenDayArr.append([company[i:i+dataSetLength], company[i+dataSetLength]])\n",
    "            \n",
    "trainingData = [data[0] for data in tenDayArr]\n",
    "trainingLabels = [data[1] for data in tenDayArr]\n",
    "\n",
    "testLeastSquares = np.linalg.lstsq(trainingData, trainingLabels)[0]\n",
    "\n",
    "print(testLeastSquares)\n",
    "\n",
    "testArr = [0.6 + 0.01 * pow(-1, i % 2) for i in range(10)]"
   ]
  },
  {
   "cell_type": "code",
   "execution_count": null,
   "metadata": {},
   "outputs": [],
   "source": []
  }
 ],
 "metadata": {
  "kernelspec": {
   "display_name": "Python 3",
   "language": "python",
   "name": "python3"
  },
  "language_info": {
   "codemirror_mode": {
    "name": "ipython",
    "version": 3
   },
   "file_extension": ".py",
   "mimetype": "text/x-python",
   "name": "python",
   "nbconvert_exporter": "python",
   "pygments_lexer": "ipython3",
   "version": "3.7.3"
  }
 },
 "nbformat": 4,
 "nbformat_minor": 2
}
